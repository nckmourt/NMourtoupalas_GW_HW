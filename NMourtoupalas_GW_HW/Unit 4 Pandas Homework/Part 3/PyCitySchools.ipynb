{
 "cells": [
  {
   "cell_type": "markdown",
   "metadata": {},
   "source": [
    "### Note\n",
    "* Instructions have been included for each segment. You do not have to follow them exactly, but they are included to help you think through the steps."
   ]
  },
  {
   "cell_type": "code",
   "execution_count": 1,
   "metadata": {},
   "outputs": [
    {
     "data": {
      "text/html": [
       "<div>\n",
       "<style scoped>\n",
       "    .dataframe tbody tr th:only-of-type {\n",
       "        vertical-align: middle;\n",
       "    }\n",
       "\n",
       "    .dataframe tbody tr th {\n",
       "        vertical-align: top;\n",
       "    }\n",
       "\n",
       "    .dataframe thead th {\n",
       "        text-align: right;\n",
       "    }\n",
       "</style>\n",
       "<table border=\"1\" class=\"dataframe\">\n",
       "  <thead>\n",
       "    <tr style=\"text-align: right;\">\n",
       "      <th></th>\n",
       "      <th>Student ID</th>\n",
       "      <th>student_name</th>\n",
       "      <th>gender</th>\n",
       "      <th>grade</th>\n",
       "      <th>school_name</th>\n",
       "      <th>reading_score</th>\n",
       "      <th>math_score</th>\n",
       "      <th>School ID</th>\n",
       "      <th>type</th>\n",
       "      <th>size</th>\n",
       "      <th>budget</th>\n",
       "    </tr>\n",
       "  </thead>\n",
       "  <tbody>\n",
       "    <tr>\n",
       "      <th>0</th>\n",
       "      <td>0</td>\n",
       "      <td>Paul Bradley</td>\n",
       "      <td>M</td>\n",
       "      <td>9th</td>\n",
       "      <td>Huang High School</td>\n",
       "      <td>66</td>\n",
       "      <td>79</td>\n",
       "      <td>0</td>\n",
       "      <td>District</td>\n",
       "      <td>2917</td>\n",
       "      <td>1910635</td>\n",
       "    </tr>\n",
       "    <tr>\n",
       "      <th>1</th>\n",
       "      <td>1</td>\n",
       "      <td>Victor Smith</td>\n",
       "      <td>M</td>\n",
       "      <td>12th</td>\n",
       "      <td>Huang High School</td>\n",
       "      <td>94</td>\n",
       "      <td>61</td>\n",
       "      <td>0</td>\n",
       "      <td>District</td>\n",
       "      <td>2917</td>\n",
       "      <td>1910635</td>\n",
       "    </tr>\n",
       "    <tr>\n",
       "      <th>2</th>\n",
       "      <td>2</td>\n",
       "      <td>Kevin Rodriguez</td>\n",
       "      <td>M</td>\n",
       "      <td>12th</td>\n",
       "      <td>Huang High School</td>\n",
       "      <td>90</td>\n",
       "      <td>60</td>\n",
       "      <td>0</td>\n",
       "      <td>District</td>\n",
       "      <td>2917</td>\n",
       "      <td>1910635</td>\n",
       "    </tr>\n",
       "    <tr>\n",
       "      <th>3</th>\n",
       "      <td>3</td>\n",
       "      <td>Dr. Richard Scott</td>\n",
       "      <td>M</td>\n",
       "      <td>12th</td>\n",
       "      <td>Huang High School</td>\n",
       "      <td>67</td>\n",
       "      <td>58</td>\n",
       "      <td>0</td>\n",
       "      <td>District</td>\n",
       "      <td>2917</td>\n",
       "      <td>1910635</td>\n",
       "    </tr>\n",
       "    <tr>\n",
       "      <th>4</th>\n",
       "      <td>4</td>\n",
       "      <td>Bonnie Ray</td>\n",
       "      <td>F</td>\n",
       "      <td>9th</td>\n",
       "      <td>Huang High School</td>\n",
       "      <td>97</td>\n",
       "      <td>84</td>\n",
       "      <td>0</td>\n",
       "      <td>District</td>\n",
       "      <td>2917</td>\n",
       "      <td>1910635</td>\n",
       "    </tr>\n",
       "  </tbody>\n",
       "</table>\n",
       "</div>"
      ],
      "text/plain": [
       "   Student ID       student_name gender grade        school_name  \\\n",
       "0           0       Paul Bradley      M   9th  Huang High School   \n",
       "1           1       Victor Smith      M  12th  Huang High School   \n",
       "2           2    Kevin Rodriguez      M  12th  Huang High School   \n",
       "3           3  Dr. Richard Scott      M  12th  Huang High School   \n",
       "4           4         Bonnie Ray      F   9th  Huang High School   \n",
       "\n",
       "   reading_score  math_score  School ID      type  size   budget  \n",
       "0             66          79          0  District  2917  1910635  \n",
       "1             94          61          0  District  2917  1910635  \n",
       "2             90          60          0  District  2917  1910635  \n",
       "3             67          58          0  District  2917  1910635  \n",
       "4             97          84          0  District  2917  1910635  "
      ]
     },
     "execution_count": 1,
     "metadata": {},
     "output_type": "execute_result"
    }
   ],
   "source": [
    "# Dependencies and Setup\n",
    "import pandas as pd\n",
    "import numpy as np\n",
    "import random\n",
    "\n",
    "# File to Load (Remember to Change These)\n",
    "school_data_to_load = \"Resources/schools_complete.csv\"\n",
    "student_data_to_load = \"Resources/students_complete.csv\"\n",
    "\n",
    "# Read School and Student Data File and store into Pandas Data Frames\n",
    "school_data = pd.read_csv(school_data_to_load)\n",
    "student_data = pd.read_csv(student_data_to_load)\n",
    "\n",
    "# Combine the data into a single dataset\n",
    "school_data_complete = pd.merge(student_data, school_data, how=\"left\", on=[\"school_name\", \"school_name\"])\n",
    "school_data_complete.head()"
   ]
  },
  {
   "cell_type": "markdown",
   "metadata": {},
   "source": [
    "## District Summary\n",
    "\n",
    "* Calculate the total number of schools\n",
    "\n",
    "* Calculate the total number of students\n",
    "\n",
    "* Calculate the total budget\n",
    "\n",
    "* Calculate the average math score \n",
    "\n",
    "* Calculate the average reading score\n",
    "\n",
    "* Calculate the overall passing rate (overall average score), i.e. (avg. math score + avg. reading score)/2\n",
    "\n",
    "* Calculate the percentage of students with a passing math score (70 or greater)\n",
    "\n",
    "* Calculate the percentage of students with a passing reading score (70 or greater)\n",
    "\n",
    "* Create a dataframe to hold the above results\n",
    "\n",
    "* Optional: give the displayed data cleaner formatting"
   ]
  },
  {
   "cell_type": "code",
   "execution_count": null,
   "metadata": {},
   "outputs": [],
   "source": [
    "# Calculate the total number of schools\n",
    "number_schools = len(school_df[\"SchoolName\"].unique())\n",
    "# Calculate the total number of students\n",
    "number_students = school_df[\"size\"].sum()\n",
    "# Calculate the total budget\n",
    "total_budget = school_df[\"budget\"].sum()\n",
    "# Calculate the average math score\n",
    "average_math_score = student_df[\"math_score\"].mean()\n",
    "# Calculate the average reading score\n",
    "average_reading_score = student_df[\"reading_score\"].mean()\n",
    "# Calculate the overall passing rate (overall average score), i.e. (avg. math score + avg. reading score)/2\n",
    "overall_pass = ((percent_math_pass + percent_reading_pass)/\n",
    "# Calculate the percentage of students with a passing math score (70 or greater)\n",
    "percent_math_pass = ((student_df[\"math_score\"] > 70).sum()/student_df[\"math_score\"].count())*100\n",
    "# Calculate the percentage of students with a passing reading score (70 or greater)\n",
    "percent_reading_pass = (((student_df[\"reading_score\"] > 70).sum()/student_df[\"reading_score\"].count())*100)\n",
    "# Create a dataframe to hold the above results\n",
    "district_summary = pd.DataFrame({\"Total Schools\":[number_schools],\n",
    "                               \"Total Students\":[number_students],\n",
    "                               \"Total Budget\" : [total_budget],\n",
    "                               \"Average Math Score\":[average_math_score],\n",
    "                               \"Average Reading Score\":[average_reading_score],\n",
    "                               \"% Passing Math\":[percent_math_pass],\n",
    "                               \"% Passing Reading\": [percent_reading_pass],\n",
    "                               \"% Overall Passing Rate\":[overall_pass]})"
   ]
  },
  {
   "cell_type": "markdown",
   "metadata": {},
   "source": [
    "## School Summary"
   ]
  },
  {
   "cell_type": "markdown",
   "metadata": {},
   "source": [
    "* Create an overview table that summarizes key metrics about each school, including:\n",
    "  * School Name\n",
    "  * School Type\n",
    "  * Total Students\n",
    "  * Total School Budget\n",
    "  * Per Student Budget\n",
    "  * Average Math Score\n",
    "  * Average Reading Score\n",
    "  * % Passing Math\n",
    "  * % Passing Reading\n",
    "  * Overall Passing Rate (Average of the above two)\n",
    "  \n",
    "* Create a dataframe to hold the above results"
   ]
  },
  {
   "cell_type": "code",
   "execution_count": null,
   "metadata": {},
   "outputs": [],
   "source": [
    "district_summary = district_summary[[\"Total Schools\", \"Total Students\",\"Total Budget\", \"Average Math Score\", \"Average Reading Score\", \"% Passing Math\", \"% Passing Reading\", \"% Overall Passing Rate\"]]\n",
    "\n",
    "district_summary[\"Total Students\"] = district_summary[\"Total Students\"].map(\"{:,}\".format)\n",
    "district_summary[\"Total Budget\"] = district_summary[\"Total Budget\"].map(\"${:,}\".format)\n",
    "district_summary[\"Average Math Score\"] = district_summary[\"Average Math Score\"].map(\"{:.2f}%\".format)\n",
    "district_summary[\"Average Reading Score\"] = district_summary[\"Average Reading Score\"].map(\"{:.2f}%\".format)\n",
    "district_summary[\"% Passing Math\"] = district_summary[\"% Passing Math\"].map(\"{:.2f}%\".format)\n",
    "district_summary[\"% Passing Reading\"] = district_summary[\"% Passing Reading\"].map(\"{:.2f}%\".format)\n",
    "district_summary[\"% Overall Passing Rate\"] = district_summary[\"% Overall Passing Rate\"].map(\"{:.2f}%\".format)\n",
    "\n",
    "district_summary.head()\n",
    "\n",
    "grouped_student_school_df = student_df.groupby([\"SchoolName\"], as_index=False)\n",
    "\n",
    "sch_avgmathscore_df = pd.DataFrame(grouped_student_school_df[\"math_score\"].mean())\n",
    "\n",
    "sch_avgreadingscore_df = pd.DataFrame(grouped_student_school_df[\"reading_score\"].mean())\n",
    "\n",
    "group_mathpass = student_df[student_df[\"math_score\"]>70].groupby([\"SchoolName\"], as_index=False)\n",
    "\n",
    "sch_mathpass_df = pd.DataFrame(group_mathpass[\"math_score\"].count())\n",
    "sch_mathpass_df.columns= [\"SchoolName\", \"mathPassCnt\"]\n",
    "\n",
    "group_readpass = student_df[student_df[\"reading_score\"]>70].groupby([\"SchoolName\"], as_index=False)\n",
    "\n",
    "sch_readpass_df = pd.DataFrame(group_readpass[\"reading_score\"].count())\n",
    "sch_readpass_df.columns= [\"SchoolName\", \"readPassCnt\"]\n",
    "\n",
    "merged_student_school_df = pd.merge(school_df, sch_avgmathscore_df, on=\"SchoolName\" )\n",
    "merged_student_school_df = pd.merge(merged_student_school_df, sch_mathpass_df, on=\"SchoolName\" )\n",
    "merged_student_school_df = pd.merge(merged_student_school_df, sch_avgreadingscore_df, on=\"SchoolName\" )\n",
    "merged_student_school_df = pd.merge(merged_student_school_df, sch_readpass_df, on=\"SchoolName\" )\n",
    "\n",
    "merged_student_school_df[\"mathPassPct\"] = (merged_student_school_df[\"mathPassCnt\"]/merged_student_school_df[\"size\"])*100\n",
    "merged_student_school_df[\"readPassPct\"] = (merged_student_school_df[\"readPassCnt\"]/merged_student_school_df[\"size\"])*100\n",
    "\n",
    "merged_student_school_df[\"overallPassPct\"] = (merged_student_school_df[\"mathPassPct\"]+merged_student_school_df[\"readPassPct\"])/2\n",
    "\n",
    "merged_student_school_df[\"perStudentBudget\"] = merged_student_school_df[\"budget\"]/merged_student_school_df[\"size\"]\n",
    "\n",
    "school_summary_raw = pd.DataFrame(merged_student_school_df[[\"SchoolName\", \"type\", \"size\", \"budget\", \"perStudentBudget\", \"math_score\", \"reading_score\", \"mathPassPct\", \"readPassPct\", \"overallPassPct\"]])\n",
    "school_summary_raw.columns = [\"SchoolName\", \"Type\", \"Num Students\", \"Budget\", \"Budget/Student\", \"Avg Math\", \"Avg Reading\", \"% Passing Math\", \"% Passing Reading\", \"% Overall Pass Rate\"]\n",
    "    #school_summary_raw.head()\n",
    "\n",
    "school_summary = pd.DataFrame(merged_student_school_df[[\"SchoolName\", \"type\", \"size\", \"budget\", \"perStudentBudget\", \"math_score\", \"reading_score\", \"mathPassPct\", \"readPassPct\", \"overallPassPct\"]])\n",
    "school_summary.columns = [\"SchoolName\", \"Type\", \"Num Students\", \"Budget\", \"Budget/Student\", \"Avg Math\", \"Avg Reading\", \"% Passing Math\", \"% Passing Reading\", \"% Overall Pass Rate\"]\n",
    "\n",
    "school_summary[\"Num Students\"] = school_summary[\"Num Students\"].map(\"{:,}\".format)\n",
    "school_summary[\"Budget\"] = school_summary[\"Budget\"].map(\"${:,}\".format)\n",
    "school_summary[\"Budget/Student\"] = school_summary[\"Budget/Student\"].map(\"${:,}\".format)\n",
    "school_summary[\"Avg Math\"] = school_summary[\"Avg Math\"].map(\"{:.2f}%\".format)\n",
    "school_summary[\"Avg Reading\"] = school_summary[\"Avg Reading\"].map(\"{:.2f}%\".format)\n",
    "school_summary[\"% Passing Math\"] = school_summary[\"% Passing Math\"].map(\"{:.2f}%\".format)\n",
    "school_summary[\"% Passing Reading\"] = school_summary[\"% Passing Reading\"].map(\"{:.2f}%\".format)\n",
    "school_summary[\"% Overall Pass Rate\"] = school_summary[\"% Overall Pass Rate\"].map(\"{:.2f}%\".format)\n",
    "\n",
    "school_summary.head(15)"
   ]
  },
  {
   "cell_type": "markdown",
   "metadata": {},
   "source": [
    "## Top Performing Schools (By Passing Rate)"
   ]
  },
  {
   "cell_type": "markdown",
   "metadata": {},
   "source": [
    "* Sort and display the top five schools in overall passing rate"
   ]
  },
  {
   "cell_type": "code",
   "execution_count": null,
   "metadata": {},
   "outputs": [],
   "source": [
    "# Sort and display the top five schools in overall passing rate\n",
    "sort_school_summary = school_summary.sort_values(\"% Overall Pass Rate\", ascending=False)[:5]\n",
    "sort_school_summary.head(15)"
   ]
  },
  {
   "cell_type": "markdown",
   "metadata": {},
   "source": [
    "## Bottom Performing Schools (By Passing Rate)"
   ]
  },
  {
   "cell_type": "markdown",
   "metadata": {},
   "source": [
    "* Sort and display the five worst-performing schools"
   ]
  },
  {
   "cell_type": "code",
   "execution_count": null,
   "metadata": {},
   "outputs": [],
   "source": [
    "# Sort and display the five worst-performing schools\n",
    "sort_school_summary = school_summary.sort_values(\"% Overall Pass Rate\")[:5]\n",
    "sort_school_summary.head(15)"
   ]
  },
  {
   "cell_type": "markdown",
   "metadata": {
    "collapsed": true
   },
   "source": [
    "## Math Scores by Grade"
   ]
  },
  {
   "cell_type": "markdown",
   "metadata": {},
   "source": [
    "* Create a table that lists the average Reading Score for students of each grade level (9th, 10th, 11th, 12th) at each school.\n",
    "\n",
    "  * Create a pandas series for each grade. Hint: use a conditional statement.\n",
    "  \n",
    "  * Group each series by school\n",
    "  \n",
    "  * Combine the series into a dataframe\n",
    "  \n",
    "  * Optional: give the displayed data cleaner formatting"
   ]
  },
  {
   "cell_type": "code",
   "execution_count": null,
   "metadata": {},
   "outputs": [],
   "source": [
    "# Create a table that lists the average Reading Score for students of each grade level (9th, 10th, 11th, 12th) at each school.\n",
    "# Create a pandas series for each grade. Hint: use a conditional statement.\n",
    "# Group each series by school\n",
    "# Combine the series into a dataframe\n",
    "# Optional: give the displayed data cleaner formatting\n",
    "ninthM_Avg = pd.DataFrame(ninth_df[\"math_score\"].mean())\n",
    "tenthM_Avg = pd.DataFrame(tenth_df[\"math_score\"].mean())\n",
    "eleventhM_Avg = pd.DataFrame(eleventh_df[\"math_score\"].mean())\n",
    "twelfthM_Avg = pd.DataFrame(twelfth_df[\"math_score\"].mean())"
   ]
  },
  {
   "cell_type": "code",
   "execution_count": null,
   "metadata": {},
   "outputs": [],
   "source": [
    "mathByGrade = pd.merge(ninthM_Avg, tenthM_Avg, on=\"SchoolName\")\n",
    "mathByGrade = pd.merge(mathByGrade, eleventhM_Avg, on=\"SchoolName\")\n",
    "mathByGrade = pd.merge(mathByGrade, twelfthM_Avg, on=\"SchoolName\")\n",
    "mathByGrade.columns = [\"SchoolName\",\"9th\",\"10th\",\"11th\",\"12th\"]\n",
    "mathByGrade.head(15)"
   ]
  },
  {
   "cell_type": "markdown",
   "metadata": {},
   "source": [
    "## Reading Score by Grade "
   ]
  },
  {
   "cell_type": "markdown",
   "metadata": {},
   "source": [
    "* Perform the same operations as above for reading scores"
   ]
  },
  {
   "cell_type": "code",
   "execution_count": null,
   "metadata": {},
   "outputs": [],
   "source": [
    "# Perform the same operations as above for reading scores\n",
    "ninthR_Avg = pd.DataFrame(ninth_df[\"reading_score\"].mean())\n",
    "tenthR_Avg = pd.DataFrame(tenth_df[\"reading_score\"].mean())\n",
    "eleventhR_Avg = pd.DataFrame(eleventh_df[\"reading_score\"].mean())\n",
    "twelfthR_Avg = pd.DataFrame(twelfth_df[\"reading_score\"].mean())"
   ]
  },
  {
   "cell_type": "code",
   "execution_count": null,
   "metadata": {},
   "outputs": [],
   "source": [
    "readByGrade = pd.merge(ninthR_Avg, tenthR_Avg, on=\"SchoolName\")\n",
    "readByGrade = pd.merge(readByGrade, eleventhR_Avg, on=\"SchoolName\")\n",
    "readByGrade = pd.merge(readByGrade, twelfthR_Avg, on=\"SchoolName\")\n",
    "readByGrade.columns = [\"SchoolName\",\"9th\",\"10th\",\"11th\",\"12th\"]\n",
    "readByGrade.head(15)"
   ]
  },
  {
   "cell_type": "markdown",
   "metadata": {},
   "source": [
    "## Scores by School Spending"
   ]
  },
  {
   "cell_type": "markdown",
   "metadata": {},
   "source": [
    "* Create a table that breaks down school performances based on average Spending Ranges (Per Student). Use 4 reasonable bins to group school spending. Include in the table each of the following:\n",
    "  * Average Math Score\n",
    "  * Average Reading Score\n",
    "  * % Passing Math\n",
    "  * % Passing Reading\n",
    "  * Overall Passing Rate (Average of the above two)"
   ]
  },
  {
   "cell_type": "code",
   "execution_count": null,
   "metadata": {},
   "outputs": [],
   "source": [
    "# Sample bins. Feel free to create your own bins.\n",
    "spending_bins = [0, 585, 615, 645, 675]\n",
    "group_names = [\"<$585\", \"$585-615\", \"$615-645\", \"$645-675\"]\n",
    "scoreByBudget = school_summary_raw[[\"Avg Math\", \"Avg Reading\", \"% Passing Math\", \"% Passing Reading\", \"% Overall Pass Rate\"]].groupby(pd.cut(school_summary_raw[\"Budget/Student\"], bins=bins, labels=group_names )).mean()\n",
    "scoreByBudget.head()"
   ]
  },
  {
   "cell_type": "code",
   "execution_count": null,
   "metadata": {},
   "outputs": [],
   "source": []
  },
  {
   "cell_type": "markdown",
   "metadata": {},
   "source": [
    "## Scores by School Size"
   ]
  },
  {
   "cell_type": "markdown",
   "metadata": {},
   "source": [
    "* Perform the same operations as above, based on school size."
   ]
  },
  {
   "cell_type": "code",
   "execution_count": null,
   "metadata": {},
   "outputs": [],
   "source": [
    "# Sample bins. Feel free to create your own bins.\n",
    "size_bins = [0, 1000, 2000, 5000]\n",
    "group_names = [\"Small (<1000)\", \"Medium (1000-2000)\", \"Large (2000-5000)\"]\n",
    "scoreBySize = school_summary_raw[[\"Avg Math\", \"Avg Reading\", \"% Passing Math\", \"% Passing Reading\", \"% Overall Pass Rate\"]].groupby(pd.cut(school_summary_raw[\"Num Students\"], bins=bins, labels=group_names)).mean()\n",
    "scoreBySize.head()\n",
    "Out[115]:"
   ]
  },
  {
   "cell_type": "code",
   "execution_count": null,
   "metadata": {
    "scrolled": true
   },
   "outputs": [],
   "source": []
  },
  {
   "cell_type": "markdown",
   "metadata": {},
   "source": [
    "## Scores by School Type"
   ]
  },
  {
   "cell_type": "markdown",
   "metadata": {},
   "source": [
    "* Perform the same operations as above, based on school type."
   ]
  },
  {
   "cell_type": "code",
   "execution_count": null,
   "metadata": {},
   "outputs": [],
   "source": [
    "# Perform the same operations as above, based on school type.\n",
    "school_summary_type = school_summary_raw\n",
    "school_summary_type[\"Type\"] = school_summary_type[\"Type\"].replace({\"Charter\": 1, \"District\":2})\n",
    "\n",
    "bins = [0, 1, 2]\n",
    "group_names = [\"Charter\", \"District\"]\n",
    "scoreByType = school_summary_type[[\"Avg Math\", \"Avg Reading\", \"% Passing Math\", \"% Passing Reading\", \"% Overall Pass Rate\"]].groupby(pd.cut(school_summary_type[\"Type\"], bins=bins,labels=group_names)).mean()\n",
    "scoreByType.head()"
   ]
  },
  {
   "cell_type": "code",
   "execution_count": null,
   "metadata": {},
   "outputs": [],
   "source": []
  }
 ],
 "metadata": {
  "anaconda-cloud": {},
  "kernel_info": {
   "name": "python3"
  },
  "kernelspec": {
   "display_name": "Python 3",
   "language": "python",
   "name": "python3"
  },
  "language_info": {
   "codemirror_mode": {
    "name": "ipython",
    "version": 3
   },
   "file_extension": ".py",
   "mimetype": "text/x-python",
   "name": "python",
   "nbconvert_exporter": "python",
   "pygments_lexer": "ipython3",
   "version": "3.7.3"
  },
  "latex_envs": {
   "LaTeX_envs_menu_present": true,
   "autoclose": false,
   "autocomplete": true,
   "bibliofile": "biblio.bib",
   "cite_by": "apalike",
   "current_citInitial": 1,
   "eqLabelWithNumbers": true,
   "eqNumInitial": 1,
   "hotkeys": {
    "equation": "Ctrl-E",
    "itemize": "Ctrl-I"
   },
   "labels_anchors": false,
   "latex_user_defs": false,
   "report_style_numbering": false,
   "user_envs_cfg": false
  },
  "nteract": {
   "version": "0.8.4"
  }
 },
 "nbformat": 4,
 "nbformat_minor": 1
}
